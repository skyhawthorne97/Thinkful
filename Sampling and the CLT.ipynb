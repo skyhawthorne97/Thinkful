{
 "cells": [
  {
   "cell_type": "markdown",
   "metadata": {},
   "source": [
    "Sampling and The Central Limit Theorem"
   ]
  },
  {
   "cell_type": "code",
   "execution_count": 1,
   "metadata": {},
   "outputs": [],
   "source": [
    "import numpy as np\n",
    "import pandas as pd\n",
    "import scipy\n",
    "import matplotlib.pyplot as plt\n",
    "%matplotlib inline"
   ]
  },
  {
   "cell_type": "code",
   "execution_count": 6,
   "metadata": {},
   "outputs": [
    {
     "name": "stdout",
     "output_type": "stream",
     "text": [
      "Sample 1 mean = 1.98\n",
      "Sample 2 mean = 5.26\n",
      "Sample 1 standard deviation = 1.0486181383134663\n",
      "Sample 2 standard deviation= 1.4395832730342486\n"
     ]
    }
   ],
   "source": [
    "pop1 = np.random.binomial(10, 0.2, 10000)\n",
    "pop2 = np.random.binomial(10,0.5, 10000) \n",
    "sample1 = np.random.choice(pop1, 100, replace=True)\n",
    "sample2 = np.random.choice(pop2, 100, replace=True)\n",
    "print(\"Sample 1 mean =\", sample1.mean())\n",
    "print(\"Sample 2 mean =\", sample2.mean())\n",
    "print(\"Sample 1 standard deviation =\", sample1.std())\n",
    "print(\"Sample 2 standard deviation=\", sample2.std())"
   ]
  },
  {
   "cell_type": "markdown",
   "metadata": {},
   "source": [
    "The means will stay roughly the same but because the sample size is increasing, the standard deviation will also increase. "
   ]
  },
  {
   "cell_type": "code",
   "execution_count": 9,
   "metadata": {},
   "outputs": [
    {
     "name": "stdout",
     "output_type": "stream",
     "text": [
      "Big Sample 1 mean = 1.992\n",
      "Big Sample 2 mean = 5.004\n",
      "Big Sample 1 standard deviation = 1.2688325342613183\n",
      "Big Sample 2 standard deviation= 1.587445747104448\n"
     ]
    },
    {
     "data": {
      "image/png": "[encoded data removed]",
      "text/plain": [
       "<Figure size 432x288 with 1 Axes>"
      ]
     },
     "metadata": {
      "needs_background": "light"
     },
     "output_type": "display_data"
    }
   ],
   "source": [
    "BigSample1 = np.random.choice(pop1, 1000, replace=True)\n",
    "BigSample2 = np.random.choice(pop2, 1000, replace=True)\n",
    "print(\"Big Sample 1 mean =\", BigSample1.mean())\n",
    "print(\"Big Sample 2 mean =\", BigSample2.mean())\n",
    "print(\"Big Sample 1 standard deviation =\", BigSample1.std())\n",
    "print(\"Big Sample 2 standard deviation=\", BigSample2.std())\n",
    "plt.hist(BigSample1, alpha=0.5, label='sample 1') \n",
    "plt.hist(BigSample2, alpha=0.5, label='sample 2') \n",
    "plt.legend(loc='upper right') \n",
    "plt.show()"
   ]
  },
  {
   "cell_type": "markdown",
   "metadata": {},
   "source": [
    "With such a small sample size, it won't accurately reflect the parent population. The means will stay roughly the same but because the sample size is decreasing, the standard deviation will also decrease. "
   ]
  },
  {
   "cell_type": "code",
   "execution_count": 10,
   "metadata": {},
   "outputs": [
    {
     "name": "stdout",
     "output_type": "stream",
     "text": [
      "Small Sample 1 mean = 2.15\n",
      "Small Sample 2 mean = 4.65\n",
      "Small Sample 1 standard deviation = 1.458595214581482\n",
      "Small Sample 2 standard deviation= 1.3518505834595775\n"
     ]
    },
    {
     "data": {
      "image/png": "[encoded data removed]",
      "text/plain": [
       "<Figure size 432x288 with 1 Axes>"
      ]
     },
     "metadata": {
      "needs_background": "light"
     },
     "output_type": "display_data"
    }
   ],
   "source": [
    "SmallSample1 = np.random.choice(pop1, 20, replace=True)\n",
    "SmallSample2 = np.random.choice(pop2, 20, replace=True)\n",
    "print(\"Small Sample 1 mean =\", SmallSample1.mean())\n",
    "print(\"Small Sample 2 mean =\", SmallSample2.mean())\n",
    "print(\"Small Sample 1 standard deviation =\", SmallSample1.std())\n",
    "print(\"Small Sample 2 standard deviation=\", SmallSample2.std())\n",
    "plt.hist(SmallSample1, alpha=0.5, label='sample 1') \n",
    "plt.hist(SmallSample2, alpha=0.5, label='sample 2') \n",
    "plt.legend(loc='upper right') \n",
    "plt.show()"
   ]
  },
  {
   "cell_type": "code",
   "execution_count": 24,
   "metadata": {},
   "outputs": [
    {
     "name": "stdout",
     "output_type": "stream",
     "text": [
      "Ttest_indResult(statistic=9.339051752745, pvalue=2.1897801079530228e-17)\n"
     ]
    }
   ],
   "source": [
    "pop1 = np.random.binomial(10, 0.3, 10000)\n",
    "pop2 = np.random.binomial(10,0.5, 10000) \n",
    "sample1 = np.random.choice(pop1, 100, replace=True)\n",
    "sample2 = np.random.choice(pop2, 100, replace=True)\n",
    "from scipy.stats import ttest_ind\n",
    "print(ttest_ind(sample2, sample1, equal_var=False))"
   ]
  },
  {
   "cell_type": "code",
   "execution_count": 23,
   "metadata": {},
   "outputs": [
    {
     "name": "stdout",
     "output_type": "stream",
     "text": [
      "Ttest_indResult(statistic=4.862150886996665, pvalue=2.3614139834388244e-06)\n"
     ]
    }
   ],
   "source": [
    "pop1 = np.random.binomial(10, 0.4, 10000)\n",
    "pop2 = np.random.binomial(10,0.5, 10000) \n",
    "sample1 = np.random.choice(pop1, 100, replace=True)\n",
    "sample2 = np.random.choice(pop2, 100, replace=True)\n",
    "from scipy.stats import ttest_ind\n",
    "print(ttest_ind(sample2, sample1, equal_var=False))"
   ]
  },
  {
   "cell_type": "markdown",
   "metadata": {},
   "source": [
    "A higher p-value means the samples are more similar. Therefore, raising it decreases the T-statistic and increases the p-value "
   ]
  },
  {
   "cell_type": "code",
   "execution_count": 26,
   "metadata": {},
   "outputs": [
    {
     "name": "stdout",
     "output_type": "stream",
     "text": [
      "Ttest_indResult(statistic=-0.4391408792370539, pvalue=0.6610761712581041)\n"
     ]
    }
   ],
   "source": [
    "pop1 = np.random.normal(10, 0.4, 10000)\n",
    "pop2 = np.random.normal(10,0.5, 10000) \n",
    "sample1 = np.random.choice(pop1, 100, replace=True)\n",
    "sample2 = np.random.choice(pop2, 100, replace=True)\n",
    "from scipy.stats import ttest_ind\n",
    "print(ttest_ind(sample2, sample1, equal_var=False))"
   ]
  },
  {
   "cell_type": "markdown",
   "metadata": {},
   "source": [
    "Since the sample size is 100 (a significant sample), changing the distributions doesn't alter the veracity because the Central Limit Theorem states the only necessary component for accurate sample's is it's size, not distribution"
   ]
  }
 ],
 "metadata": {
  "kernelspec": {
   "display_name": "Python 3",
   "language": "python",
   "name": "python3"
  },
  "language_info": {
   "codemirror_mode": {
    "name": "ipython",
    "version": 3
   },
   "file_extension": ".py",
   "mimetype": "text/x-python",
   "name": "python",
   "nbconvert_exporter": "python",
   "pygments_lexer": "ipython3",
   "version": "3.7.0"
  }
 },
 "nbformat": 4,
 "nbformat_minor": 2
}
